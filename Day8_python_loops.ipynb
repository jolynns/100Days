{
 "cells": [
  {
   "cell_type": "code",
   "execution_count": null,
   "metadata": {},
   "outputs": [],
   "source": [
    "result = 0\n",
    "basket_items = {'apples': 4, 'oranges': 19, 'kites': 3, 'sandwiches': 8}\n",
    "fruits = ['apples', 'oranges', 'pears', 'peaches', 'grapes', 'bananas']\n",
    "\n",
    "for key, value in basket_items.items():\n",
    "    if key in fruits:\n",
    "        result += value\n",
    "\n",
    "\n",
    "#if the key is in the list of fruits, add the value (number of fruits) to result\n",
    "\n",
    "\n",
    "print(result)"
   ]
  },
  {
   "cell_type": "code",
   "execution_count": 1,
   "metadata": {},
   "outputs": [
    {
     "name": "stdout",
     "output_type": "stream",
     "text": [
      "There are 23 fruits and 11 not fruits in the basket\n"
     ]
    }
   ],
   "source": [
    "fruit_count, not_fruit_count = 0, 0\n",
    "basket_items = {'apples': 4, 'oranges': 19, 'kites': 3, 'sandwiches': 8}\n",
    "fruits = ['apples', 'oranges', 'pears', 'peaches', 'grapes', 'bananas']\n",
    "\n",
    "#Iterate through the dictionary\n",
    "for key, value in basket_items.items():\n",
    "    if key in fruits:\n",
    "        fruit_count += value\n",
    "    else:\n",
    "        not_fruit_count += value\n",
    "\n",
    "#if the key is in the list of fruits, add to fruit_count.\n",
    "\n",
    "#if the key is not in the list, then add to the not_fruit_count\n",
    "\n",
    "\n",
    "print(\"There are {} fruits and {} not fruits in the basket\".format(fruit_count, not_fruit_count))"
   ]
  },
  {
   "cell_type": "code",
   "execution_count": 2,
   "metadata": {},
   "outputs": [
    {
     "name": "stdout",
     "output_type": "stream",
     "text": [
      "W\n",
      "a\n",
      "t\n",
      "e\n",
      "r\n",
      " \n",
      "f\n",
      "a\n",
      "l\n",
      "l\n",
      "s\n"
     ]
    }
   ],
   "source": [
    "print_str = \"Water falls\"\n",
    "\n",
    "# TODO: initialize a counting variable \"i\" to 0 - you'll use this to track which character of the string you're on\n",
    "i = 0\n",
    "# TODO: write your while header line, comparing \"i\" to the length of the string\n",
    "while i < len(print_str):\n",
    "    print(print_str[i])\n",
    "    i += 1"
   ]
  },
  {
   "cell_type": "code",
   "execution_count": null,
   "metadata": {},
   "outputs": [],
   "source": []
  }
 ],
 "metadata": {
  "kernelspec": {
   "display_name": "Python 3",
   "language": "python",
   "name": "python3"
  },
  "language_info": {
   "codemirror_mode": {
    "name": "ipython",
    "version": 3
   },
   "file_extension": ".py",
   "mimetype": "text/x-python",
   "name": "python",
   "nbconvert_exporter": "python",
   "pygments_lexer": "ipython3",
   "version": "3.6.5"
  }
 },
 "nbformat": 4,
 "nbformat_minor": 2
}
